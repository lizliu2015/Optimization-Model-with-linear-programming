{
  "nbformat": 4,
  "nbformat_minor": 0,
  "metadata": {
    "colab": {
      "name": "Optimization model with linear programming.ipynb",
      "version": "0.3.2",
      "provenance": [],
      "include_colab_link": true
    },
    "language_info": {
      "codemirror_mode": {
        "name": "ipython",
        "version": 3
      },
      "file_extension": ".py",
      "mimetype": "text/x-python",
      "name": "python",
      "nbconvert_exporter": "python",
      "pygments_lexer": "ipython3",
      "version": "3.6.3"
    },
    "kernelspec": {
      "display_name": "Python 3",
      "language": "python",
      "name": "python3"
    }
  },
  "cells": [
    {
      "cell_type": "markdown",
      "metadata": {
        "id": "view-in-github",
        "colab_type": "text"
      },
      "source": [
        "<a href=\"https://colab.research.google.com/github/lizliu2015/Optimization-Model-with-linear-programming/blob/master/Optimization_model_with_linear_programming.ipynb\" target=\"_parent\"><img src=\"https://colab.research.google.com/assets/colab-badge.svg\" alt=\"Open In Colab\"/></a>"
      ]
    },
    {
      "cell_type": "markdown",
      "metadata": {
        "id": "POp8K8vbQmWG",
        "colab_type": "text"
      },
      "source": [
        "# 1: Sensitivity Analyses\n",
        "\n",
        "Content publishers such as The New York Times, The Washington Post and The Wall Street Journal generate revenue by using display advertisements.\n",
        "\n",
        "The Washington Post's website contains several different sections including Sports and National. The number of views each section gets per day can be estimated by analyzing\n",
        "historical data. Assume that the Sports section gets six million views per day and the National section get five million views per day.\n",
        "\n",
        "Assume four companies, GEICO, Delta, T-mobile and Capital One, wish to advertise on the Sports\n",
        "and National sections of the Washington Post and they contract directly with the newspaper. For each company, the contract specifies the number of times its display ads are shown in these two sections.\n",
        "\n",
        "The contracts sometimes also specify a total number of page views that can originate from any section of the newspaper. The page views promised by The Washington Post to each advertiser are\n",
        "summarized in Table 1 below. \n",
        "\n",
        "| Company | Sports | National | Total         \n",
        "| :---:|:---: | :---:|:---:\n",
        "| GEICO|2 million | 1 million|-\n",
        "| Delta|- | 1 million|2 million\n",
        "| T-Mobile|1 million | 1 million|3 million\n",
        "| Capital One|- | -|2 million\n",
        "\n",
        "Assume that the contract also specifies that The Washington Post receives 2.40 per click-through from each of the four companies. However, not every page view leads to a click. If every 1000 views leads to 5 clicks, the click-through rate is 0.5$\\%$. Newspapers use historical data and tracking technologies to determine click-through rates. Assume that the relevant click-through rates are given in the Table 2 below.\n",
        "\n",
        "| Company | Sports | National          \n",
        "| :---:|:---: | :---:\n",
        "| GEICO|$2.5\\%$ | $0.8\\%$\n",
        "| Delta|$2.0\\%$| $1.0\\%$\n",
        "| T-Mobile|$1.0\\%$| $3.0\\%$\n",
        "| Capital One|$1.5\\%$| $2.0\\%$\n",
        "\n"
      ]
    },
    {
      "cell_type": "markdown",
      "metadata": {
        "id": "ERGTn__sQmWH",
        "colab_type": "text"
      },
      "source": [
        "## What is the optimization problem?"
      ]
    },
    {
      "cell_type": "markdown",
      "metadata": {
        "id": "713uw7EYG0Wj",
        "colab_type": "text"
      },
      "source": [
        " ### Decision variables\n",
        "Let $i=\\{1,2,3,4\\}$ be in the index for the advertisers such that\n",
        "* $i=1$ is GEICO\n",
        "* $i=2$ is Delta\n",
        "* $i=3$ is T-Mobile\n",
        "* $i=4$ is Capital One\n",
        "\n",
        "Let $j=\\{1,2\\}$ be the index for the category, such as $j=1$ is the Sports categorty and $j=2$ is the National category.\n",
        "\n",
        "So $x_{11}$ is the number of impressions for Geico in Sports and $x_{12}$ is the number of impressions for GEICO int he National category\n",
        "\n",
        "Let $\\kappa_{ij}$ be the CTR of advertiser $i$ in category $j$. For instance, the CTR of T-Mobile in the sports category is $\\kappa_{31}=1.0\\%$, whereas its CTR in the National category is $\\kappa_{32}=3.0\\%$.\n",
        "\n",
        " ### Objective Function\n",
        "\n",
        "The objective is to maximize advertising revenues. \n",
        "\n",
        "\\begin{equation}\n",
        "Maximize \\quad 2.4\\times \\sum_{i=1}^4\\sum_{j=1}^{2}  \\kappa_{ij}\\times x_{ij}\n",
        "\\end{equation}\n",
        "\n",
        "\n",
        "### Constraints\n",
        "**The first table provides the following constraints**\n",
        "\n",
        "\\begin{align}\n",
        "x_{11}&\\geq 2,000,000\\\\\n",
        "x_{12}&\\geq 1,000,000\\\\\n",
        "x_{22}&\\geq 1,000,000\\\\\n",
        "x_{21}+x_{22}&\\geq 2,000,000\\\\\n",
        "x_{31}&\\geq 1,000,000\\\\\n",
        "x_{32}&\\geq 1,000,000\\\\\n",
        "x_{31}+x_{32}&\\geq 3,000,000\\\\\n",
        "x_{41}+x_{42}&\\geq 2,000,000\\\\\n",
        "\\end{align}\n",
        "\n",
        "**Maximun views per day for each channel**\n",
        "\n",
        "\\begin{align}\n",
        "\\sum_{i=1}^{4}x_{i1}&\\leq 6,000,000\\\\\n",
        "\\sum_{i=1}^{4}x_{i2}&\\leq 5,000,000\\\\\n",
        "\\end{align}\n",
        "\n",
        "**Non-negativity constraints**\n",
        "\\begin{equation}\n",
        "x_{ij}\\geq 0\n",
        "\\end{equation}\n",
        "\n",
        "\n",
        "\n"
      ]
    },
    {
      "cell_type": "markdown",
      "metadata": {
        "id": "SbAKUPx1QmWe",
        "colab_type": "text"
      },
      "source": [
        "##2. Optimal solution? "
      ]
    },
    {
      "cell_type": "code",
      "metadata": {
        "id": "PDxbMi2RQmWh",
        "colab_type": "code",
        "outputId": "0f3a2fc9-5ac6-4d2c-cf33-5eeaad70ab3d",
        "colab": {
          "base_uri": "https://localhost:8080/",
          "height": 221
        }
      },
      "source": [
        "import numpy \n",
        "import math\n",
        "import cvxpy as cvx\n",
        "from numpy import *\n",
        "from cvxpy import *\n",
        "import pandas as pd\n",
        "\n",
        "kappa=matrix([[2.5,2.0,1.0,1.5],[0.8,1.0,3.0,2.0]])\n",
        "kappa1=kappa[0]\n",
        "kappa2=kappa[1]\n",
        "x1=cvx.Variable((4,1),integer=True)\n",
        "x2=cvx.Variable((4,1),integer=True)\n",
        "\n",
        "#Objective Function\n",
        "Z1=sum(kappa1*x1)*2.4/100\n",
        "Z2=sum(kappa2*x2)*2.4/100\n",
        "objective = cvx.Maximize((Z1+Z2))\n",
        "\n",
        "#Constraints\n",
        "c1=(sum(x1))<=6*1000000#Capacity on Sports\n",
        "c2=(sum(x2))<=5*1000000#Capacity on Sports\n",
        "c3=x1[0]>=2*1000000 # Geico must have at least 2m in sports\n",
        "c4=x2[0]>=1*1000000 # Geico must have at least 1m in sports\n",
        "c5=x2[1]>=1*1000000 # Delta must have at least 1m in sports\n",
        "c6=x1[1]+x2[1]==2*1000000 # Delta's total # of impressions must be equal to 2m total\n",
        "c7=x1[2]>=1*1000000# Tmobile must have at least 1m impression in sports\n",
        "c8=x2[2]>=1*1000000# Tmobile must have at least 1m impression in national\n",
        "c9=x1[2]+x2[2]==3*1000000 # Tmobile's total # of impressions must be equal 3m total\n",
        "c10=x1[3]+x2[3]==2*1000000# Capital Obe's impression equal 2m\n",
        "c=[c1,c2,c3,c4,c5,c6,c7,c8,c9,c10,x1>=0,x2>=0]\n",
        "\n",
        "prob = cvx.Problem(objective, c)\n",
        "result = prob.solve()\n",
        "print('The optimal revenue is ')\n",
        "print(prob.value)\n",
        "print('The optimal allocation in the sports category is')\n",
        "print(x1.value)\n",
        "print('The optimal allocation in the national category is')\n",
        "print(x2.value)"
      ],
      "execution_count": 0,
      "outputs": [
        {
          "output_type": "stream",
          "text": [
            "The optimal revenue is \n",
            "523199.99999759113\n",
            "The optimal allocation in the sports category is\n",
            "[[2999999.99999905]\n",
            " [ 999999.99995182]\n",
            " [1000000.00001714]\n",
            " [1000000.0000317 ]]\n",
            "The optimal allocation in the national category is\n",
            "[[1000000.0000004 ]\n",
            " [1000000.00004818]\n",
            " [1999999.99998286]\n",
            " [ 999999.9999683 ]]\n"
          ],
          "name": "stdout"
        }
      ]
    },
    {
      "cell_type": "markdown",
      "metadata": {
        "id": "npAGMKJc7Tkw",
        "colab_type": "text"
      },
      "source": [
        "##3. Sensitivity analyses of the optimal solution to different click-through rates "
      ]
    },
    {
      "cell_type": "code",
      "metadata": {
        "id": "rY2S8H0PQmWm",
        "colab_type": "code",
        "outputId": "1ecf3004-78c9-4a0b-fba3-cf0e3106e8b7",
        "colab": {
          "base_uri": "https://localhost:8080/",
          "height": 799
        }
      },
      "source": [
        "import numpy \n",
        "import math\n",
        "import cvxpy as cvx\n",
        "from numpy import *\n",
        "from cvxpy import *\n",
        "import pandas as pd\n",
        "\n",
        "\n",
        "x1=cvx.Variable((4,1),integer=True)\n",
        "x2=cvx.Variable((4,1),integer=True)\n",
        "\n",
        "\n",
        "#Constraints\n",
        "c1=(sum(x1))<=6*1000000#Capacity on Sports\n",
        "c2=(sum(x2))<=5*1000000#Capacity on Sports\n",
        "c3=x1[0]>=2*1000000 # Geico must have at least 2m in sports\n",
        "c4=x2[0]>=1*1000000 # Geico must have at least 1m in sports\n",
        "c5=x2[1]>=1*1000000 # Delta must have at least 1m in sports\n",
        "c6=x1[1]+x2[1]==2*1000000 # Delta's total # of impressions must be equal to 2m total\n",
        "c7=x1[2]>=1*1000000# Tmobile must have at least 1m impression in sports\n",
        "c8=x2[2]>=1*1000000# Tmobile must have at least 1m impression in national\n",
        "c9=x1[2]+x2[2]==3*1000000 # Tmobile's total # of impressions must be equal 3m total\n",
        "c10=x1[3]+x2[3]==2*1000000# Capital Obe's impression equal 2m\n",
        "c=[c1,c2,c3,c4,c5,c6,c7,c8,c9,c10,x1>=0,x2>=0]\n",
        "\n",
        "#Geico-Sports:\n",
        "\n",
        "for gs in [2,3]:\n",
        "  kappa=matrix([[gs,2.0,1.0,1.5],[0.8,1.0,3.0,2.0]])\n",
        "  kappa1=kappa[0]\n",
        "  kappa2=kappa[1]\n",
        "  \n",
        "  Z1=sum(kappa1*x1)*2.4/100\n",
        "  Z2=sum(kappa2*x2)*2.4/100\n",
        "  objective = cvx.Maximize((Z1+Z2)) #Objective Function\n",
        "  \n",
        "  prob = cvx.Problem(objective, c)\n",
        "  result = prob.solve()\n",
        "  print('Geico-Sports:   ', gs,'%')\n",
        "  print('The optimal revenue is ', round(result,1))\n",
        "  #print('The optimal allocation in the sports category is')\n",
        "  #print(x1.value)\n",
        "  #print('The optimal allocation in the national category is')\n",
        "  #print(x2.value)\n",
        "\n",
        "#Geico-National:\n",
        "\n",
        "for gn in [0.1,0.6, 1.1]:\n",
        "  kappa=matrix([[2.5,2.0,1.0,1.5],[gn,1.0,3.0,2.0]])\n",
        "  kappa1=kappa[0]\n",
        "  kappa2=kappa[1]\n",
        "  \n",
        "  Z1=sum(kappa1*x1)*2.4/100\n",
        "  Z2=sum(kappa2*x2)*2.4/100\n",
        "  objective = cvx.Maximize((Z1+Z2)) #Objective Function\n",
        "  \n",
        "  prob = cvx.Problem(objective, c)\n",
        "  result = prob.solve()\n",
        "  print('Geico-National:   ', gn,'%')\n",
        "  print('The optimal revenue is ', round(result,1))\n",
        "  \n",
        "#Delta Sports:\n",
        "for ds in [1.5,1, 2.5]:\n",
        "  kappa=matrix([[2.5,ds,1.0,1.5],[0.8,1.0,3.0,2.0]])\n",
        "  kappa1=kappa[0]\n",
        "  kappa2=kappa[1]\n",
        "  \n",
        "  Z1=sum(kappa1*x1)*2.4/100\n",
        "  Z2=sum(kappa2*x2)*2.4/100\n",
        "  objective = cvx.Maximize((Z1+Z2)) #Objective Function\n",
        "  \n",
        "  prob = cvx.Problem(objective, c)\n",
        "  result = prob.solve()\n",
        "  \n",
        "  print('Delta-Sport:   ', ds,'%')\n",
        "  print('The optimal revenue is ', round(result,1))\n",
        "\n",
        "#Delta National:\n",
        "for dn in [0.5, 1,1.5]:\n",
        "  kappa=matrix([[2.5,2.0,1.0,1.5],[0.8,dn,3.0,2.0]])\n",
        "  kappa1=kappa[0]\n",
        "  kappa2=kappa[1]\n",
        "  \n",
        "  Z1=sum(kappa1*x1)*2.4/100\n",
        "  Z2=sum(kappa2*x2)*2.4/100\n",
        "  objective = cvx.Maximize((Z1+Z2))#Objective Function\n",
        "  \n",
        "  prob = cvx.Problem(objective, c)\n",
        "  result = prob.solve()\n",
        "  \n",
        "  print('Delta-National:   ', dn,'%')\n",
        "  print('The optimal revenue is ', round(result,1))  \n",
        "\n",
        "#T-Moble - Sports:\n",
        "for ts in [0.5,1, 1.5]:\n",
        "  kappa=matrix([[2.5,2.0,ts,1.5],[0.8,1.0,3.0,2.0]])\n",
        "  kappa1=kappa[0]\n",
        "  kappa2=kappa[1]\n",
        "  \n",
        "  Z1=sum(kappa1*x1)*2.4/100\n",
        "  Z2=sum(kappa2*x2)*2.4/100\n",
        "  objective = cvx.Maximize((Z1+Z2)) #Objective Function\n",
        "  \n",
        "  prob = cvx.Problem(objective, c)\n",
        "  result = prob.solve()\n",
        "  print('Tmobile-Sports:   ', ts,'%')\n",
        "  print('The optimal revenue is ', round(result,1))\n",
        "  \n",
        "#T-Moble - National:\n",
        "for tn in [2.5,2, 3.5]:\n",
        "  kappa=matrix([[2.5,2.0,1.0,1.5],[0.8,1.0,tn,2.0]])\n",
        "  kappa1=kappa[0]\n",
        "  kappa2=kappa[1]\n",
        "  \n",
        "  Z1=sum(kappa1*x1)*2.4/100\n",
        "  Z2=sum(kappa2*x2)*2.4/100\n",
        "  objective = cvx.Maximize((Z1+Z2)) #Objective Function\n",
        "  \n",
        "  prob = cvx.Problem(objective, c)\n",
        "  result = prob.solve()\n",
        "  print('T-Moble - National:   ', tn,'%')\n",
        "  print('The optimal revenue is ', round(result,1))\n",
        "  \n",
        "#Capital One - Sports:\n",
        "for cs in [1.5,2, 2.0]:\n",
        "  kappa=matrix([[2.5,2.0,1.0,cs],[0.8,1.0,3.0,2.0]])\n",
        "  kappa1=kappa[0]\n",
        "  kappa2=kappa[1]\n",
        "  \n",
        "  Z1=sum(kappa1*x1)*2.4/100\n",
        "  Z2=sum(kappa2*x2)*2.4/100\n",
        "  objective = cvx.Maximize((Z1+Z2)) #Objective Function\n",
        "  \n",
        "  prob = cvx.Problem(objective, c)\n",
        "  result = prob.solve()\n",
        "  print('Capital One - Sports:   ', cs,'%')\n",
        "  print('The optimal revenue is ', round(result,1))\n",
        "\n",
        "#Capital One - National:\n",
        "for cn in [1.5,2, 2.5]:\n",
        "  kappa=matrix([[2.5,2.0,1.0,1.5],[0.8,1.0,3.0,cn]])\n",
        "  kappa1=kappa[0]\n",
        "  kappa2=kappa[1]\n",
        "  \n",
        "  Z1=sum(kappa1*x1)*2.4/100\n",
        "  Z2=sum(kappa2*x2)*2.4/100\n",
        "  objective = cvx.Maximize((Z1+Z2)) #Objective Function\n",
        "  \n",
        "  prob = cvx.Problem(objective, c)\n",
        "  result = prob.solve()\n",
        "  print('Capital One - National:   ', cn,'%')\n",
        "  print('The optimal revenue is ', round(result,1))"
      ],
      "execution_count": 0,
      "outputs": [
        {
          "output_type": "stream",
          "text": [
            "Geico-Sports:    2 %\n",
            "The optimal revenue is  487200.0\n",
            "Geico-Sports:    3 %\n",
            "The optimal revenue is  559200.0\n",
            "Geico-National:    0.1 %\n",
            "The optimal revenue is  506400.0\n",
            "Geico-National:    0.6 %\n",
            "The optimal revenue is  518400.0\n",
            "Geico-National:    1.1 %\n",
            "The optimal revenue is  530400.0\n",
            "Delta-Sport:    1.5 %\n",
            "The optimal revenue is  511200.0\n",
            "Delta-Sport:    1 %\n",
            "The optimal revenue is  499200.0\n",
            "Delta-Sport:    2.5 %\n",
            "The optimal revenue is  535200.0\n",
            "Delta-National:    0.5 %\n",
            "The optimal revenue is  511200.0\n",
            "Delta-National:    1 %\n",
            "The optimal revenue is  523200.0\n",
            "Delta-National:    1.5 %\n",
            "The optimal revenue is  535200.0\n",
            "Tmobile-Sports:    0.5 %\n",
            "The optimal revenue is  511200.0\n",
            "Tmobile-Sports:    1 %\n",
            "The optimal revenue is  523200.0\n",
            "Tmobile-Sports:    1.5 %\n",
            "The optimal revenue is  535200.0\n",
            "T-Moble - National:    2.5 %\n",
            "The optimal revenue is  499200.0\n",
            "T-Moble - National:    2 %\n",
            "The optimal revenue is  475200.0\n",
            "T-Moble - National:    3.5 %\n",
            "The optimal revenue is  547200.0\n",
            "Capital One - Sports:    1.5 %\n",
            "The optimal revenue is  523200.0\n",
            "Capital One - Sports:    2 %\n",
            "The optimal revenue is  535200.0\n",
            "Capital One - Sports:    2.0 %\n",
            "The optimal revenue is  535200.0\n",
            "Capital One - National:    1.5 %\n",
            "The optimal revenue is  511200.0\n",
            "Capital One - National:    2 %\n",
            "The optimal revenue is  523200.0\n",
            "Capital One - National:    2.5 %\n",
            "The optimal revenue is  535200.0\n"
          ],
          "name": "stdout"
        }
      ]
    },
    {
      "cell_type": "markdown",
      "metadata": {
        "id": "tKl-LQsvIPV4",
        "colab_type": "text"
      },
      "source": [
        "Geico Sports is the most sensitive to the click through rate, Capital One Sports is the least sensitive to the click through rate. When placing advertisement, we need remember that some brand's profit will rely more on the expected click through rate for certain channel, so its important to pay more attention on calculating. Secondly, for those highly sensitive brand, there a higher risk of loss if the click through rate does not get as high as expected, thus companies may want to restructure their portfolio based on their risk preference.\n",
        "\n",
        "Pull the lowest and highest number from each sensitivity analysis result into one table to compare the differences:\n",
        "\n",
        "| Lowest | Highest | Diff        \n",
        "| :---:|:---: | :---:|:---:|:---:\n",
        "| Geico - Sports|487,200|559,200| 72,000\n",
        "| Geico - Nationa|506,400|530,400| 24,000\n",
        "| Delta - Sport|511,200|535,200|24,000\n",
        "| Delta - National|511,200|535,200| 24,000\n",
        "| Tmobile - Sports|511,200|535,200|24,000\n",
        "| Tmobile - National|499,200|547,200| 48,000\n",
        "| CapitalOne - Sports|523,200|535,200| 12,000\n",
        "| CapitalOne - National|511,200|535,200| 14,000\n",
        "\n"
      ]
    },
    {
      "cell_type": "markdown",
      "metadata": {
        "id": "65NouhonuCfy",
        "colab_type": "text"
      },
      "source": [
        "#2. Operations Excellence\n",
        "\n",
        "You operate two plants, i.e., A and B. Each plant makes two products, “standard” and “deluxe”. A unit of standard gives a profit contribution of 10, while a unit of deluxe gives a profit contribution of $15.\n",
        "Each plant uses two processes, grinding and polishing, for producing its products. Plant A has a grinding capacity of 80 hours per week and polishing capacity of 60 hours per week. For plant B, these capacities are 60 and 75 hours per week, respectively.\n",
        "The grinding and polishing times in hours for a unit of each type of product in each factory are given in the\n",
        "tables below."
      ]
    },
    {
      "cell_type": "markdown",
      "metadata": {
        "id": "jdzj5g8OtHYj",
        "colab_type": "text"
      },
      "source": [
        "For Plant A\n",
        "\n",
        "\n",
        "| Standard | Deluxe        \n",
        "| :---:|:---: | :---:|:---:|:---:\n",
        "| Grinding|4|2\n",
        "| Polishing|2|5\n",
        "\n",
        "For Plant B\n",
        "\n",
        "|  | Standard | Deluxe |         \n",
        "| :---:|:---: | :---:|:---:|:---:\n",
        "| Grinding|5|3|\n",
        "| Polishing|5|6|\n",
        "\n",
        "It is possible, for example, that plant B has older machines than plant A, resulting in higher unit processing times. In addition, each unit of each product uses 4 kg of a raw material, which we refer to as raw. The company has 120 kg of raw available per week. To start with, we will assume that plant A is allocated 75 kg of raw per week and plant B the remaining 45 kg per week. Each plant can build a very simple linear programming\n",
        "model to maximize its profit contribution."
      ]
    },
    {
      "cell_type": "markdown",
      "metadata": {
        "id": "HAonO9-38jB8",
        "colab_type": "text"
      },
      "source": [
        "##1. Optimization model for each plat seperately?\n"
      ]
    },
    {
      "cell_type": "markdown",
      "metadata": {
        "id": "jLqCiYbi9EpH",
        "colab_type": "text"
      },
      "source": [
        "\n",
        "### What are the decision variables?\n",
        " \n",
        "In what follows, the index $i={1,2}$ refers to two producs\n",
        "* $i=1$ refers to standard\n",
        "* $i=2$ refers to deluxe\n",
        " \n",
        "### What are the constraints?\n",
        " * Capacity constraints: Each plant cannot produce more than the capacity\n",
        "\n",
        " \n",
        " ### What is the objective function?\n",
        " \n",
        " Maximize the profit\n",
        " \n",
        "\n",
        " **For plant A:**\n",
        " \n",
        "\\begin{equation}\n",
        "\\text{Maximize}\\quad 10 x_1 + 15x_2  \n",
        "\\end{equation}\n",
        "\n",
        "\n",
        "Subject to \n",
        "\\begin{array}\n",
        "&\\\\\n",
        "\\text{ Raw A: }&\\quad \\  4x_1+4x_2 & \\leq 75\\quad \\\n",
        " &\\\\\n",
        "\\text{ Grinding A: }&\\quad \\  4x_1+2x_2 & \\leq 80\\quad \\\n",
        " &\\\\\n",
        "\\text{ Polishing A: }&\\quad \\  2x_1+5x_2 & \\leq 60\\quad \\\n",
        " &\\\\\n",
        "\\text{ Non negative: }&\\quad \\  x_1, x_2 &\\geq 0\n",
        "\\end{array}\n",
        "\n",
        "\n",
        " **For plant B:**\n",
        " \n",
        "\\begin{equation}\n",
        "\\text{Maximize}\\quad 10 x_3 + 15x_4  \n",
        "\\end{equation}\n",
        "\n",
        "\n",
        "Subject to \n",
        "\\begin{array}\n",
        "&\\\\\n",
        "\\text{ Raw B: }&\\quad \\  4x_3+4x_4 & \\leq 45\\quad \\\n",
        " &\\\\\n",
        "\\text{ Grinding B: }&\\quad \\  5x_3+3x_4 & \\leq 60\\quad \\\n",
        " &\\\\\n",
        "\\text{ Polishing B: }&\\quad \\  5x_3+6x_4 & \\leq 75\\quad \\\n",
        " &\\\\\n",
        "\\text{ Non negative: }&\\quad \\  x_3, x_4 &\\geq 0\n",
        "\\end{array}\n"
      ]
    },
    {
      "cell_type": "markdown",
      "metadata": {
        "id": "EHJjrf_ufOM2",
        "colab_type": "text"
      },
      "source": [
        "* For plant A alone, the profit is $225 from making 11.25 of standard and 7.5 of deluxe, there is a surplus grinding capacity of 20 hours.\n",
        "\n",
        "* For plant B alone, the profit is 168.75 from making 11.25 deluxe. There is a surplus grinding capacity of 26.25 hours, and purplus polishing capacity of 7.5 hours."
      ]
    },
    {
      "cell_type": "code",
      "metadata": {
        "id": "NWBAuA5oB6-A",
        "colab_type": "code",
        "outputId": "ee45bf7b-67a4-4507-8d85-3187ce0226ce",
        "colab": {
          "base_uri": "https://localhost:8080/",
          "height": 68
        }
      },
      "source": [
        "#For plant A\n",
        "import numpy as np\n",
        "import math\n",
        "import cvxpy as cvx\n",
        "from numpy import matrix \n",
        "from cvxpy import *\n",
        "\n",
        "#xi = cvx.Variable(1, integer=True)#\n",
        "x1 = cvx.Variable(1, integer=False)\n",
        "x2 = cvx.Variable(1, integer=False)\n",
        "x3 = cvx.Variable(1, integer=False)\n",
        "x4 = cvx.Variable(1, integer=False)\n",
        "\n",
        "\n",
        "#Constraints\n",
        "#Budget Constraints \n",
        "c1 = (4*x1+4*x2<=75)\n",
        "c2 = (4*x1+2*x2<=80)\n",
        "c3 = (2*x1+5*x2<=60)\n",
        "c4 = (x1>=0)\n",
        "c5 = (x2>=0)\n",
        "        \n",
        "    \n",
        "#ObjectiveFunction\n",
        "Profit= 10*x1+15*x2\n",
        "\n",
        "ObjectiveFunction=cvx.Maximize(Profit)\n",
        "\n",
        "con = [c1,c2,c3,c4,c5]\n",
        "\n",
        "#Solution\n",
        "prob = cvx.Problem(ObjectiveFunction, con)\n",
        "prob.solve()\n",
        "\n",
        "print(\"Maximized Profit is\",round(prob.solve()))\n",
        "print(\"PlantA-Standard\",x1.value)\n",
        "print(\"PlantA-Deluxe\",x2.value)"
      ],
      "execution_count": 0,
      "outputs": [
        {
          "output_type": "stream",
          "text": [
            "Maximized Profit is 225.0\n",
            "PlantA-Standard [11.25]\n",
            "PlantA-Deluxe [7.5]\n"
          ],
          "name": "stdout"
        }
      ]
    },
    {
      "cell_type": "code",
      "metadata": {
        "id": "X-OGYbUSDnLA",
        "colab_type": "code",
        "outputId": "dc0e414c-91fd-4a21-a18f-e852e8608261",
        "colab": {
          "base_uri": "https://localhost:8080/",
          "height": 68
        }
      },
      "source": [
        "#For plant B\n",
        "\n",
        "#Constraints\n",
        "#Budget Constraints \n",
        "c6 = (4*x3+4*x4<=45)\n",
        "c7 = (5*x3+3*x4<=60)\n",
        "c8 = (5*x3+6*x4<=75)\n",
        "c9 = (x3>=0)\n",
        "c10 = (x4>=0)\n",
        "        \n",
        "    \n",
        "#ObjectiveFunction\n",
        "Profit= 10*x3+15*x4\n",
        "\n",
        "ObjectiveFunction=cvx.Maximize(Profit)\n",
        "\n",
        "con = [c6,c7,c8,c9,c10]\n",
        "\n",
        "#Solution\n",
        "prob = cvx.Problem(ObjectiveFunction, con)\n",
        "prob.solve()\n",
        "\n",
        "print(\"Maximized Profit is\",round(prob.solve()))\n",
        "print(\"PlantB-Standard\",x3.value)\n",
        "print(\"PlantB-Deluxe\",x4.value)"
      ],
      "execution_count": 0,
      "outputs": [
        {
          "output_type": "stream",
          "text": [
            "Maximized Profit is 169.0\n",
            "PlantB-Standard [1.17815818e-15]\n",
            "PlantB-Deluxe [11.25]\n"
          ],
          "name": "stdout"
        }
      ]
    },
    {
      "cell_type": "markdown",
      "metadata": {
        "id": "qaL1Vt4N9AJ0",
        "colab_type": "text"
      },
      "source": [
        "##2. optimization model for the joint optimization of Plant A and B?\n",
        "\n",
        "\n",
        " **Joint optimization:**\n",
        " \n",
        "\\begin{equation}\n",
        "\\text{Maximize}\\quad 10 x_1 + 15x_2 +10x_3 +15x_4  \n",
        "\\end{equation}\n",
        "\n",
        "\n",
        "Subject to \n",
        "\\begin{array}\n",
        "&\\\\\n",
        "\\text{ Raw: }&\\quad \\  4x_1+4x_2+4x_3+4x_4 & \\leq 120\\quad \\\n",
        " &\\\\\n",
        "\\text{ Grinding A: }&\\quad \\  4x_1+2x_2 & \\leq 80\\quad \\\n",
        " &\\\\\n",
        "\\text{ Polishing A: }&\\quad \\  2x_1+5x_2 & \\leq 60\\quad \\\n",
        "&\\\\\n",
        "\\text{ Grinding B: }&\\quad \\  5x_3+3x_4 & \\leq 60\\quad \\\n",
        " &\\\\\n",
        "\\text{ Polishing B: }&\\quad \\  5x_3+6x_4 & \\leq 75\\quad \\\n",
        " &\\\\\n",
        "\\text{ Non negative: }&\\quad \\ x_1, x_2, x_3, x_4 &\\geq 0\\quad\n",
        "\\end{array}\n",
        "\n"
      ]
    },
    {
      "cell_type": "markdown",
      "metadata": {
        "id": "Crk1_wlJlSXT",
        "colab_type": "text"
      },
      "source": [
        "* For the joint model, the total profit is $404 from making 9.17 standard and 8.33 deluxe from plant A, and 12.15 deluxe from plant B. \n"
      ]
    },
    {
      "cell_type": "code",
      "metadata": {
        "id": "J-p8zZsLF6q_",
        "colab_type": "code",
        "outputId": "e1f4182d-372a-4ae9-dcb9-d68a86bc008c",
        "colab": {
          "base_uri": "https://localhost:8080/",
          "height": 102
        }
      },
      "source": [
        "#xi = cvx.Variable(1, integer=True)#\n",
        "x1 = cvx.Variable(1, integer=False)\n",
        "x2 = cvx.Variable(1, integer=False)\n",
        "x3 = cvx.Variable(1, integer=False)\n",
        "x4 = cvx.Variable(1, integer=False)\n",
        "\n",
        "\n",
        "#Constraints\n",
        "#Budget Constraints \n",
        "c1 = (4*x1+4*x2+4*x3+4*x4<=120)\n",
        "c2 = (4*x1+2*x2<=80)\n",
        "c3 = (2*x1+5*x2<=60)\n",
        "c4 = (5*x3+3*x4<=60)\n",
        "c5 = (5*x3+6*x4<=75)\n",
        "c6 = (x3>=0)\n",
        "c7 = (x4>=0)\n",
        "c8 = (x1>=0)\n",
        "c9 = (x2>=0)\n",
        "        \n",
        "    \n",
        "#ObjectiveFunction\n",
        "Profit= 10*x1+15*x2+10*x3+15*x4\n",
        "\n",
        "ObjectiveFunction=cvx.Maximize(Profit)\n",
        "\n",
        "con = [c1,c2,c3,c4,c5,c6,c7,c8,c9]\n",
        "\n",
        "#Solution\n",
        "prob = cvx.Problem(ObjectiveFunction, con)\n",
        "prob.solve()\n",
        "\n",
        "print(\"Maximized Profit is\",round(prob.solve()))\n",
        "print(\"PlantA-Standard\",x1.value)\n",
        "print(\"PlantA-Deluxe\",x2.value)\n",
        "print(\"PlantB-Standard\",x3.value)\n",
        "print(\"PlantB-Deluxe\",x4.value)"
      ],
      "execution_count": 0,
      "outputs": [
        {
          "output_type": "stream",
          "text": [
            "Maximized Profit is 404.0\n",
            "PlantA-Standard [9.16666667]\n",
            "PlantA-Deluxe [8.33333333]\n",
            "PlantB-Standard [2.12320123e-15]\n",
            "PlantB-Deluxe [12.5]\n"
          ],
          "name": "stdout"
        }
      ]
    },
    {
      "cell_type": "markdown",
      "metadata": {
        "id": "7sHOSpXwSPTs",
        "colab_type": "text"
      },
      "source": [
        "\n",
        "The joint optimization gives the better profit compare to total of seperate optimization profit with each plant. \n",
        "\n",
        "In the joint model, plant A now uses less and contribute less compare to the seperate model, and plant B uses more matierals and contribute more profit compare to the seperate model. Thus we can concluse that the joint model biased on B more\n",
        "\n"
      ]
    },
    {
      "cell_type": "markdown",
      "metadata": {
        "id": "2KH6hPmtSZrq",
        "colab_type": "text"
      },
      "source": [
        "I wouls recommend CEO to use large linear programming to optimizethe capacity and profitability of the plant. In this method, we reach the optimized retule by balancing the allocation, productivity and efficiency of both plant instead of looking at them seperately. Large linear programming arise through combining smaller models. It helps solve the allocation beweetn plants as well as the decision making within plants\n"
      ]
    },
    {
      "cell_type": "markdown",
      "metadata": {
        "id": "8971LHVD_JiO",
        "colab_type": "text"
      },
      "source": [
        "# Budget Distribution\n",
        "\n",
        "Hotel La Quinta Motor Inns (LQM) \n",
        "\n",
        "LQM is a middle-sized hotel chain that is considering expanding to more locations. LQM used data on 75 existing inn locations to build a linear regression model to predict “Profitability”, computed at the operating margin, or earnings before interest and taxes divided by total revenue. They tried many independent variables and came up with the final model\n",
        "\n",
        "𝑃𝑟𝑜𝑓𝑖𝑡𝑎𝑏𝑖𝑙𝑖𝑡𝑦 = 39.05 − 5.41×𝑆𝑡𝑎𝑡𝑒 𝑃𝑜𝑝𝑢𝑙𝑎𝑡𝑖𝑜𝑛 𝑝𝑒𝑟 𝐼𝑛𝑛 + 5.86×𝑃𝑟𝑖𝑐𝑒 𝑜𝑓 𝑡ℎ𝑒 𝐼𝑛𝑛 − 3.09×𝑆𝑞𝑢𝑎𝑟𝑒 𝑅𝑜𝑜𝑡 𝑜𝑓 𝑡ℎ𝑒 𝑀𝑒𝑑𝑖𝑎𝑛 𝐼𝑛𝑐𝑜𝑚𝑒 𝑖𝑛 𝑡ℎ𝑒 𝑎𝑟𝑒𝑎 + 1.75×𝐶𝑜𝑙𝑙𝑒𝑔𝑒 𝑆𝑡𝑢𝑑𝑒𝑛𝑡𝑠 𝑖𝑛 𝑡ℎ𝑒 𝐴𝑟𝑒𝑎\n",
        "\n",
        "All independent variables are significant and were normalized to have mean zero and standard deviation 1."
      ]
    },
    {
      "cell_type": "code",
      "metadata": {
        "id": "mzhBxQ-0_L5S",
        "colab_type": "code",
        "outputId": "3243faf7-ce03-4d20-f276-607035162d08",
        "colab": {
          "resources": {
            "http://localhost:8080/nbextensions/google.colab/files.js": {
              "data": "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",
              "ok": true,
              "headers": [
                [
                  "content-type",
                  "application/javascript"
                ]
              ],
              "status": 200,
              "status_text": ""
            }
          },
          "base_uri": "https://localhost:8080/",
          "height": 111
        }
      },
      "source": [
        "from google.colab import files\n",
        "files.upload()"
      ],
      "execution_count": 0,
      "outputs": [
        {
          "output_type": "display_data",
          "data": {
            "text/html": [
              "\n",
              "     <input type=\"file\" id=\"files-9bd8b248-b31d-46ac-b520-f0d8d9d0aa9a\" name=\"files[]\" multiple disabled />\n",
              "     <output id=\"result-9bd8b248-b31d-46ac-b520-f0d8d9d0aa9a\">\n",
              "      Upload widget is only available when the cell has been executed in the\n",
              "      current browser session. Please rerun this cell to enable.\n",
              "      </output>\n",
              "      <script src=\"/nbextensions/google.colab/files.js\"></script> "
            ],
            "text/plain": [
              "<IPython.core.display.HTML object>"
            ]
          },
          "metadata": {
            "tags": []
          }
        },
        {
          "output_type": "stream",
          "text": [
            "Saving SelectingHotels  MSBA.csv to SelectingHotels  MSBA.csv\n"
          ],
          "name": "stdout"
        },
        {
          "output_type": "execute_result",
          "data": {
            "text/plain": [
              "{'SelectingHotels  MSBA.csv': b'\\xef\\xbb\\xbfHotel,Location,Price,Price (normalized),Square Root of Median Income (normalized),College Students in Area (normalized),State Population Per Inn (normalized)\\r\\n1,\"Eureka, California\",\"$2,925,000.00 \",-0.30,-0.81,-0.54,-1.00\\r\\n2,\"Fresno, California\",\"$10,000,000.00 \",1.70,-0.41,0.31,-0.47\\r\\n3,\"Fresno, California\",\"$3,750,000.00 \",-0.07,-0.41,0.31,-0.47\\r\\n4,\"Fresno, California\",\"$3,500,000.00 \",-0.14,-0.41,0.31,-0.47\\r\\n5,\"Fresno, California\",\"$325,000.00 \",-1.04,-0.41,0.31,-0.47\\r\\n6,\"Long Beach, California\",\"$8,950,000.00 \",1.40,0.66,0.48,-0.56\\r\\n7,\"Los Angeles, California\",\"$1,950,000.00 \",-0.58,0.17,3.11,3.11\\r\\n8,\"Los Angeles, California\",\"$1,750,000.00 \",-0.63,0.17,3.11,3.11\\r\\n9,\"Los Angeles, California\",\"$4,900,000.00 \",0.26,0.17,3.11,3.11\\r\\n10,\"South Lake Tahoe, California\",\"$1,650,000.00 \",-0.66,-0.79,-0.59,-0.43\\r\\n11,\"South Lake Tahoe, California\",\"$1,125,000.00 \",-0.81,-0.79,-0.59,-0.43\\r\\n12,\"South Lake Tahoe, California\",\"$2,500,000.00 \",-0.42,-0.79,-0.59,-0.43\\r\\n13,\"South Lake Tahoe, California\",\"$1,975,000.00 \",-0.57,-0.79,-0.59,-0.43\\r\\n14,\"South Lake Tahoe, California\",\"$3,750,000.00 \",-0.07,-0.79,-0.59,-0.43\\r\\n15,\"South Lake Tahoe, California\",\"$1,475,000.00 \",-0.71,-0.79,-0.59,-0.43\\r\\n16,\"South Lake Tahoe, California\",\"$750,000.00 \",-0.92,-0.79,-0.59,-0.43\\r\\n'}"
            ]
          },
          "metadata": {
            "tags": []
          },
          "execution_count": 24
        }
      ]
    },
    {
      "cell_type": "code",
      "metadata": {
        "id": "3CW9A8jq_haE",
        "colab_type": "code",
        "colab": {}
      },
      "source": [
        "import pandas as pd\n",
        "df = pd.read_csv('SelectingHotels  MSBA.csv')"
      ],
      "execution_count": 0,
      "outputs": []
    },
    {
      "cell_type": "markdown",
      "metadata": {
        "id": "3LOLVAVdBojr",
        "colab_type": "text"
      },
      "source": [
        "\n",
        "The formular:\n",
        "\n",
        "𝑃𝑟𝑜𝑓𝑖𝑡𝑎𝑏𝑖𝑙𝑖𝑡𝑦 = 39.05 − 5.41×𝑆𝑡𝑎𝑡𝑒 𝑃𝑜𝑝𝑢𝑙𝑎𝑡𝑖𝑜𝑛 𝑝𝑒𝑟 𝐼𝑛𝑛 + 5.86×𝑃𝑟𝑖𝑐𝑒 𝑜𝑓 𝑡ℎ𝑒 𝐼𝑛𝑛 − 3.09×𝑆𝑞𝑢𝑎𝑟𝑒 𝑅𝑜𝑜𝑡 𝑜𝑓 𝑡ℎ𝑒 𝑀𝑒𝑑𝑖𝑎𝑛 𝐼𝑛𝑐𝑜𝑚𝑒 𝑖𝑛 𝑡ℎ𝑒 𝑎𝑟𝑒𝑎 + 1.75×𝐶𝑜𝑙𝑙𝑒𝑔𝑒 𝑆𝑡𝑢𝑑𝑒𝑛𝑡𝑠 𝑖𝑛 𝑡ℎ𝑒 𝐴𝑟𝑒𝑎\n",
        "\n",
        "Positive variables:\n",
        "\n",
        "𝑃𝑟𝑖𝑐𝑒 𝑜𝑓 𝑡ℎ𝑒 𝐼𝑛𝑛: it makes sense since the higher the price of the inn, the more profit it will generate\n",
        "\n",
        "𝐶𝑜𝑙𝑙𝑒𝑔𝑒 𝑆𝑡𝑢𝑑𝑒𝑛𝑡𝑠 𝑖𝑛 𝑡ℎ𝑒 𝐴𝑟𝑒𝑎: the better the area is populated, the more customer it could have.\n",
        "\n",
        "Negative variables:\n",
        "\n",
        "𝑆𝑡𝑎𝑡𝑒 𝑃𝑜𝑝𝑢𝑙𝑎𝑡𝑖𝑜𝑛 𝑝𝑒𝑟 𝐼𝑛𝑛, it makes some sense because it describe the density and competition(including airbnb) in the region, the more competitive it is the less profit you could earn.\n",
        "\n",
        "𝑆𝑞𝑢𝑎𝑟𝑒 𝑅𝑜𝑜𝑡 𝑜𝑓 𝑡ℎ𝑒 𝑀𝑒𝑑𝑖𝑎𝑛 𝐼𝑛𝑐𝑜𝑚𝑒 𝑖𝑛 𝑡ℎ𝑒 𝑎𝑟𝑒𝑎: it makes somes sense too if the inn is targeting on low to median income people, since the higher the median income of the population, the less likely they are willing to live in the loe budget inn. \n",
        "\n",
        "\n",
        "\n",
        "\n",
        "\n"
      ]
    },
    {
      "cell_type": "markdown",
      "metadata": {
        "id": "nW6LqowJP2qB",
        "colab_type": "text"
      },
      "source": [
        "###2. Using this regression equation, LQM created a spreadsheet model to predict profitability. LQM collected data for several locations in California, which is provided in the excel spreadsheet on Canvas “LQM”. Using this spreadsheet, compute the profitability for each hotel. Which one has the highest profitability? Which one has the lowest profitability?"
      ]
    },
    {
      "cell_type": "markdown",
      "metadata": {
        "id": "JvmXdq00TM7V",
        "colab_type": "text"
      },
      "source": [
        "** Profitability of each hotel**"
      ]
    },
    {
      "cell_type": "code",
      "metadata": {
        "id": "PmwEdEr3QT5k",
        "colab_type": "code",
        "colab": {}
      },
      "source": [
        "df['Profitability'] = 39.05-(5.41*df['State Population Per Inn (normalized)'])+(5.86*df['Price (normalized)'])-(3.09*df['Square Root of Median Income (normalized)'])+(1.75*df['College Students in Area (normalized)'])"
      ],
      "execution_count": 0,
      "outputs": []
    },
    {
      "cell_type": "code",
      "metadata": {
        "id": "zsE7EJ5aTEZG",
        "colab_type": "code",
        "outputId": "14457333-ad98-42d9-86ac-fbae2011e4ba",
        "colab": {
          "base_uri": "https://localhost:8080/",
          "height": 306
        }
      },
      "source": [
        "df['Profitability'] "
      ],
      "execution_count": 0,
      "outputs": [
        {
          "output_type": "execute_result",
          "data": {
            "text/plain": [
              "1     53.3641\n",
              "5     49.0842\n",
              "0     44.2599\n",
              "2     42.9919\n",
              "3     42.5817\n",
              "13    42.3747\n",
              "11    40.3237\n",
              "12    39.4447\n",
              "9     38.9173\n",
              "14    38.6243\n",
              "10    38.0383\n",
              "15    37.3937\n",
              "4     37.3077\n",
              "8     28.6657\n",
              "6     23.7433\n",
              "7     23.4503\n",
              "Name: Profitability, dtype: float64"
            ]
          },
          "metadata": {
            "tags": []
          },
          "execution_count": 35
        }
      ]
    },
    {
      "cell_type": "markdown",
      "metadata": {
        "id": "Ur8bOOGeTTZE",
        "colab_type": "text"
      },
      "source": [
        "**Max profitability - hotel 2**"
      ]
    },
    {
      "cell_type": "code",
      "metadata": {
        "id": "eOTgbD2pRzNr",
        "colab_type": "code",
        "outputId": "79a8a2a2-bfc3-4e42-d011-cab21d4e7283",
        "colab": {
          "base_uri": "https://localhost:8080/",
          "height": 170
        }
      },
      "source": [
        "df.loc[df['Profitability'].idxmax()]"
      ],
      "execution_count": 0,
      "outputs": [
        {
          "output_type": "execute_result",
          "data": {
            "text/plain": [
              "Hotel                                                         2\n",
              "Location                                     Fresno, California\n",
              "Price                                           $10,000,000.00 \n",
              "Price (normalized)                                          1.7\n",
              "Square Root of Median Income (normalized)                 -0.41\n",
              "College Students in Area (normalized)                      0.31\n",
              "State Population Per Inn (normalized)                     -0.47\n",
              "Profitability                                           53.3641\n",
              "Name: 1, dtype: object"
            ]
          },
          "metadata": {
            "tags": []
          },
          "execution_count": 36
        }
      ]
    },
    {
      "cell_type": "markdown",
      "metadata": {
        "id": "_L5driwcTS3a",
        "colab_type": "text"
      },
      "source": [
        "**Min profitability - hotel 8**"
      ]
    },
    {
      "cell_type": "code",
      "metadata": {
        "id": "C0rrd9nGS8F2",
        "colab_type": "code",
        "outputId": "bd0c39e9-2825-4b31-8250-274ae6b5d849",
        "colab": {
          "base_uri": "https://localhost:8080/",
          "height": 170
        }
      },
      "source": [
        "df.loc[df['Profitability'].idxmin()]"
      ],
      "execution_count": 0,
      "outputs": [
        {
          "output_type": "execute_result",
          "data": {
            "text/plain": [
              "Hotel                                                              8\n",
              "Location                                     Los Angeles, California\n",
              "Price                                                 $1,750,000.00 \n",
              "Price (normalized)                                             -0.63\n",
              "Square Root of Median Income (normalized)                       0.17\n",
              "College Students in Area (normalized)                           3.11\n",
              "State Population Per Inn (normalized)                           3.11\n",
              "Profitability                                                23.4503\n",
              "Name: 7, dtype: object"
            ]
          },
          "metadata": {
            "tags": []
          },
          "execution_count": 37
        }
      ]
    },
    {
      "cell_type": "markdown",
      "metadata": {
        "id": "R7Dmn7g7Te79",
        "colab_type": "text"
      },
      "source": [
        "## Greedy Approach\n",
        "\n",
        "LQM has a budget of 10 million to spend on hotels. Suppose we used a “greedy” approach where we selected the most profitable hotels until we ran out of budget. So we would start by the most profitable, and then if we had enough budget left, we would buy the hotel we predict to be the second most profitable, and so on.\n"
      ]
    },
    {
      "cell_type": "markdown",
      "metadata": {
        "id": "70veV15MUZ1e",
        "colab_type": "text"
      },
      "source": [
        "We would purchase hotel 2, which cost 10 million, this will cost our entire budget, thus we should only buy  hotel."
      ]
    },
    {
      "cell_type": "code",
      "metadata": {
        "id": "fbO00BwtS_Pl",
        "colab_type": "code",
        "outputId": "e06ae4ff-f8b5-41d5-ccd4-10b48f7b9353",
        "colab": {
          "base_uri": "https://localhost:8080/",
          "height": 306
        }
      },
      "source": [
        "df.sort_values([\"Profitability\"], axis=0, ascending=False, inplace=True) \n",
        "df.head()"
      ],
      "execution_count": 0,
      "outputs": [
        {
          "output_type": "execute_result",
          "data": {
            "text/html": [
              "<div>\n",
              "<style scoped>\n",
              "    .dataframe tbody tr th:only-of-type {\n",
              "        vertical-align: middle;\n",
              "    }\n",
              "\n",
              "    .dataframe tbody tr th {\n",
              "        vertical-align: top;\n",
              "    }\n",
              "\n",
              "    .dataframe thead th {\n",
              "        text-align: right;\n",
              "    }\n",
              "</style>\n",
              "<table border=\"1\" class=\"dataframe\">\n",
              "  <thead>\n",
              "    <tr style=\"text-align: right;\">\n",
              "      <th></th>\n",
              "      <th>Hotel</th>\n",
              "      <th>Location</th>\n",
              "      <th>Price</th>\n",
              "      <th>Price (normalized)</th>\n",
              "      <th>Square Root of Median Income (normalized)</th>\n",
              "      <th>College Students in Area (normalized)</th>\n",
              "      <th>State Population Per Inn (normalized)</th>\n",
              "      <th>Profitability</th>\n",
              "    </tr>\n",
              "  </thead>\n",
              "  <tbody>\n",
              "    <tr>\n",
              "      <th>1</th>\n",
              "      <td>2</td>\n",
              "      <td>Fresno, California</td>\n",
              "      <td>$10,000,000.00</td>\n",
              "      <td>1.70</td>\n",
              "      <td>-0.41</td>\n",
              "      <td>0.31</td>\n",
              "      <td>-0.47</td>\n",
              "      <td>53.3641</td>\n",
              "    </tr>\n",
              "    <tr>\n",
              "      <th>5</th>\n",
              "      <td>6</td>\n",
              "      <td>Long Beach, California</td>\n",
              "      <td>$8,950,000.00</td>\n",
              "      <td>1.40</td>\n",
              "      <td>0.66</td>\n",
              "      <td>0.48</td>\n",
              "      <td>-0.56</td>\n",
              "      <td>49.0842</td>\n",
              "    </tr>\n",
              "    <tr>\n",
              "      <th>0</th>\n",
              "      <td>1</td>\n",
              "      <td>Eureka, California</td>\n",
              "      <td>$2,925,000.00</td>\n",
              "      <td>-0.30</td>\n",
              "      <td>-0.81</td>\n",
              "      <td>-0.54</td>\n",
              "      <td>-1.00</td>\n",
              "      <td>44.2599</td>\n",
              "    </tr>\n",
              "    <tr>\n",
              "      <th>2</th>\n",
              "      <td>3</td>\n",
              "      <td>Fresno, California</td>\n",
              "      <td>$3,750,000.00</td>\n",
              "      <td>-0.07</td>\n",
              "      <td>-0.41</td>\n",
              "      <td>0.31</td>\n",
              "      <td>-0.47</td>\n",
              "      <td>42.9919</td>\n",
              "    </tr>\n",
              "    <tr>\n",
              "      <th>3</th>\n",
              "      <td>4</td>\n",
              "      <td>Fresno, California</td>\n",
              "      <td>$3,500,000.00</td>\n",
              "      <td>-0.14</td>\n",
              "      <td>-0.41</td>\n",
              "      <td>0.31</td>\n",
              "      <td>-0.47</td>\n",
              "      <td>42.5817</td>\n",
              "    </tr>\n",
              "  </tbody>\n",
              "</table>\n",
              "</div>"
            ],
            "text/plain": [
              "   Hotel                Location            Price  Price (normalized)  \\\n",
              "1      2      Fresno, California  $10,000,000.00                 1.70   \n",
              "5      6  Long Beach, California   $8,950,000.00                 1.40   \n",
              "0      1      Eureka, California   $2,925,000.00                -0.30   \n",
              "2      3      Fresno, California   $3,750,000.00                -0.07   \n",
              "3      4      Fresno, California   $3,500,000.00                -0.14   \n",
              "\n",
              "   Square Root of Median Income (normalized)  \\\n",
              "1                                      -0.41   \n",
              "5                                       0.66   \n",
              "0                                      -0.81   \n",
              "2                                      -0.41   \n",
              "3                                      -0.41   \n",
              "\n",
              "   College Students in Area (normalized)  \\\n",
              "1                                   0.31   \n",
              "5                                   0.48   \n",
              "0                                  -0.54   \n",
              "2                                   0.31   \n",
              "3                                   0.31   \n",
              "\n",
              "   State Population Per Inn (normalized)  Profitability  \n",
              "1                                  -0.47        53.3641  \n",
              "5                                  -0.56        49.0842  \n",
              "0                                  -1.00        44.2599  \n",
              "2                                  -0.47        42.9919  \n",
              "3                                  -0.47        42.5817  "
            ]
          },
          "metadata": {
            "tags": []
          },
          "execution_count": 38
        }
      ]
    },
    {
      "cell_type": "markdown",
      "metadata": {
        "id": "Gz9UatRRUpsv",
        "colab_type": "text"
      },
      "source": [
        "We just bought one hotel (hotel 2), our total predicted profitability is just the profitability of hotel 2, which is 53.38."
      ]
    },
    {
      "cell_type": "markdown",
      "metadata": {
        "id": "mR1EZ3StAiqJ",
        "colab_type": "text"
      },
      "source": [
        "\n",
        "This is not the good approach, since this approach only consider profitability as a single metrics, but does not consider the ROI, which is not a wise use of money. \n",
        "\n",
        "If we have 20 million budget, we will pick the top two hotel under this approach, the profitability would be 102.4.\n",
        "\n",
        "\n",
        "If we want to maximize the average profitability, then it is always optimal to select only the hotel that is the most profitable. Additionally, if we don’t have a budget constraint and instead have a constraint that we can only select N hotels, it is optimal to just select the N most profitable hotels. So in the first two situations, the greedy approach would perform as well as the optimization approach. In the third situation, the optimization approach would still perform much better than the greedy approach."
      ]
    },
    {
      "cell_type": "markdown",
      "metadata": {
        "id": "fAMdQ9tWVWKi",
        "colab_type": "text"
      },
      "source": [
        "## Optimization model to select hotels given the $10 million budget. \n"
      ]
    },
    {
      "cell_type": "markdown",
      "metadata": {
        "id": "OzY99lc_V1nI",
        "colab_type": "text"
      },
      "source": [
        " \n",
        "### Decision variables\n",
        " \n",
        "Let  index $i=\\{1,2,3,4,...\\}$ be in the index for the hotel\n",
        "\n",
        "Let $x_i$ indicates the profit for hotel $i$, if opened.\n",
        "\n",
        "Let $y_i$ indicates whether we should purchase the hotel, $i$ is purchase ($y_i=1$) or not ($y_i=0$), with $i={1,...,n}$ where $n=16$. \n",
        "\n",
        " Let $p_i$ indicates the purchase  price for hotel $i$, if opened.\n",
        "\n",
        " \n",
        "### Constraints\n",
        " * Budget constraints: 10 million budget\n",
        " \n",
        " \n",
        " ### Objective function\n",
        " \n",
        " Maximize the profitability.\n",
        " \n",
        " \n",
        "\\begin{equation}\n",
        "\\text{Maxmize}_{x,y}\\quad \\ \\sum_{i=1}^{15}\\ x_{i}y_{i}\n",
        "\\end{equation}\n",
        "\n",
        "Subject to \n",
        "\\begin{array}\n",
        "&\\\\\n",
        "\\sum_{i=1}^{15}\\ p_{i}y_{i} & \\leq 10,000,000 \\quad \\text{ for } \\quad i={1,2,...,15}\\\\\n",
        " &\\\\\n",
        "x_{ij} & \\geq 0 \\quad \\text{ for } \\quad \\left(i=1,2,...,7; j=1,2,...,5    \\right) \\\\\n",
        "  &\\\\\n",
        "y&\\in{0,1}\n",
        "\\end{array}\n"
      ]
    },
    {
      "cell_type": "code",
      "metadata": {
        "id": "BPX6EHvDnUl9",
        "colab_type": "code",
        "outputId": "96b4ee62-89d2-4886-9cb2-0d23ddba9309",
        "colab": {
          "base_uri": "https://localhost:8080/",
          "height": 306
        }
      },
      "source": [
        "import numpy as np\n",
        "import math\n",
        "import cvxpy as cvx\n",
        "from numpy import matrix \n",
        "from cvxpy import *\n",
        "\n",
        "# Definition of the Variables\n",
        "y1 = cvx.Variable(1,boolean=True)\n",
        "y2 = cvx.Variable(1,boolean=True)\n",
        "y3 = cvx.Variable(1,boolean=True)\n",
        "y4 = cvx.Variable(1,boolean=True)\n",
        "y5 = cvx.Variable(1,boolean=True)\n",
        "y6 = cvx.Variable(1,boolean=True)\n",
        "y7 = cvx.Variable(1,boolean=True)\n",
        "y8 = cvx.Variable(1,boolean=True)\n",
        "y9 = cvx.Variable(1,boolean=True)\n",
        "y10 = cvx.Variable(1,boolean=True)\n",
        "y11 = cvx.Variable(1,boolean=True)\n",
        "y12 = cvx.Variable(1,boolean=True)\n",
        "y13 = cvx.Variable(1,boolean=True)\n",
        "y14 = cvx.Variable(1,boolean=True)\n",
        "y15 = cvx.Variable(1,boolean=True)\n",
        "y16 = cvx.Variable(1,boolean=True)\n",
        "\n",
        "#xi = cvx.Variable(1, integer=True)#\n",
        "x1 = 44.2599\n",
        "x2 = 53.3641\n",
        "x3 = 42.9919\n",
        "x4 = 42.5817\n",
        "x5 = 37.3077\n",
        "x6 = 49.0842\n",
        "x7 = 23.7433\n",
        "x8 = 23.4503\n",
        "x9 = 28.6657\n",
        "x10 = 38.9173\n",
        "x11 = 38.0383\n",
        "x12 = 40.3237\n",
        "x13 = 39.4447\n",
        "x14 = 42.3747\n",
        "x15 = 38.6243\n",
        "x16 = 37.3937\n",
        "\n",
        "#Constraints\n",
        "#Budget Constraints \n",
        "c11 = (y1*2925000+y2*10000000+y3*3750000+y4*3500000+y5*325000+y6*8950000+y7*1950000+y8*1750000\n",
        "      +y9*4900000+y10*1650000+y11*1125000+y12*2500000+y13*1975000+y14*3750000+y15*1475000+y16*750000)<=10000000\n",
        "\n",
        "#ObjectiveFunction\n",
        "Profit= x1*y1+x2*y2+x3*y3+x4*y4+x5*y5+x6*y6+x7*y7+x8*y8+x9*y9+x10*y10+x11*y11+x12*y12+x13*y13+x14*y14+x15*y15+x16*y16\n",
        "\n",
        "ObjectiveFunction=cvx.Maximize(Profit)\n",
        "\n",
        "con = [c11]\n",
        "\n",
        "#Solution\n",
        "prob = cvx.Problem(ObjectiveFunction, con)\n",
        "prob.solve()\n",
        "\n",
        "print(\"Maximized Profit is\",round(prob.solve()))\n",
        "print(\"hotel 1\",y1.value)\n",
        "print(\"hotel 2\",y2.value)\n",
        "print(\"hotel 3\",y3.value)\n",
        "print(\"hotel 4\",y4.value)\n",
        "print(\"hotel 5\",y5.value)\n",
        "print(\"hotel 6\",y6.value)\n",
        "print(\"hotel 7\",y7.value)\n",
        "print(\"hotel 8\",y8.value)\n",
        "print(\"hotel 9\",y9.value)\n",
        "print(\"hotel 10\",y10.value)\n",
        "print(\"hotel 11\",y11.value)\n",
        "print(\"hotel 12\",y12.value)\n",
        "print(\"hotel 13\",y13.value)\n",
        "print(\"hotel 14\",y14.value)\n",
        "print(\"hotel 15\",y15.value)\n",
        "print(\"hotel 16\",y16.value)"
      ],
      "execution_count": 0,
      "outputs": [
        {
          "output_type": "stream",
          "text": [
            "Maximized Profit is 270.0\n",
            "hotel 1 [1.0925222e-13]\n",
            "hotel 2 [-8.08022746e-14]\n",
            "hotel 3 [2.21646111e-13]\n",
            "hotel 4 [2.07780085e-13]\n",
            "hotel 5 [1.]\n",
            "hotel 6 [-3.73351308e-14]\n",
            "hotel 7 [2.1483944e-13]\n",
            "hotel 8 [1.62723529e-13]\n",
            "hotel 9 [1.92940933e-13]\n",
            "hotel 10 [1.]\n",
            "hotel 11 [1.]\n",
            "hotel 12 [1.]\n",
            "hotel 13 [1.]\n",
            "hotel 14 [2.24779028e-13]\n",
            "hotel 15 [1.]\n",
            "hotel 16 [1.]\n"
          ],
          "name": "stdout"
        }
      ]
    },
    {
      "cell_type": "markdown",
      "metadata": {
        "id": "_FWwvrK4BtC1",
        "colab_type": "text"
      },
      "source": [
        "This solution makes more sense, it generate almost twice profitablity compared to the greedy solution.\n"
      ]
    },
    {
      "cell_type": "markdown",
      "metadata": {
        "id": "oX4hbs0i87R7",
        "colab_type": "text"
      },
      "source": [
        "##Adding constrains\n",
        "\n",
        "LQM thinks that buying too many hotels in one city is probably not a good idea and would prefer to diversify across as many cities as possible. Add constraint(s) to your model to limit the number of hotels purchased in any city to at most 2.\n",
        "\n",
        "\n",
        "The new constrains is bolded below\n",
        "\n",
        "\n",
        "** What are the decision variables?**\n",
        " \n",
        "Let  index $i=\\{1,2,3,4,...\\}$ be in the index for the hotel's profit.\n",
        "\n",
        "Let $y_i$ indicates whether we should purchase the hotel, $i$ is purchase ($y_i=1$) or not ($y_i=0$), with $i={1,...,n}$ where $n=16$. \n",
        "\n",
        "\n",
        "Let $p_i$ indicates the purchase  price for hotel $i$, if opened.\n",
        "\n",
        " \n",
        "** What are the constraints?**\n",
        " * Budget constraints: 10 million budget\n",
        " * ** Capacity constraints: Each city open at most 2 hotels** \n",
        " \n",
        " \n",
        "** What is the objective function?**\n",
        " \n",
        " Maximize the profitability.\n",
        " \n",
        " \n",
        "\\begin{equation}\n",
        "\\text{Maxmize}_{x,y}\\quad \\ \\sum_{i=1}^{15}\\ x_{i}y_{i}\n",
        "\\end{equation}\n",
        "\n",
        "Subject to \n",
        "\\begin{array}\n",
        "&\\\\\n",
        "\\sum_{i=1}^{15}\\ p_{i}y_{i} & \\leq 10,000,000 \\quad \\text{ for } \\quad i={1,2,...,15}\\\\\n",
        " &\\\\\n",
        "x_{ij} & \\geq 0 \\quad \\text{ for } \\quad \\left(i=1,2,...,7; j=1,2,...,5    \\right) \\\\\n",
        "  &\\\\\n",
        "y&\\in{0,1}\\\\\n",
        "   &\\\\\n",
        "y_{i} &\\leq \\quad\\ 2 \\quad \\\n",
        "\\end{array}\n"
      ]
    },
    {
      "cell_type": "code",
      "metadata": {
        "id": "NQCKaiiu8tNy",
        "colab_type": "code",
        "outputId": "7a3388b2-1d5d-46de-aded-cef5c5f257dc",
        "colab": {
          "base_uri": "https://localhost:8080/",
          "height": 34
        }
      },
      "source": [
        "import numpy as np\n",
        "import math\n",
        "import cvxpy as cvx\n",
        "from numpy import matrix \n",
        "from cvxpy import *\n",
        "\n",
        "# Definition of the Variables\n",
        "y1 = cvx.Variable(1,boolean=True)\n",
        "y2 = cvx.Variable(1,boolean=True)\n",
        "y3 = cvx.Variable(1,boolean=True)\n",
        "y4 = cvx.Variable(1,boolean=True)\n",
        "y5 = cvx.Variable(1,boolean=True)\n",
        "y6 = cvx.Variable(1,boolean=True)\n",
        "y7 = cvx.Variable(1,boolean=True)\n",
        "y8 = cvx.Variable(1,boolean=True)\n",
        "y9 = cvx.Variable(1,boolean=True)\n",
        "y10 = cvx.Variable(1,boolean=True)\n",
        "y11 = cvx.Variable(1,boolean=True)\n",
        "y12 = cvx.Variable(1,boolean=True)\n",
        "y13 = cvx.Variable(1,boolean=True)\n",
        "y14 = cvx.Variable(1,boolean=True)\n",
        "y15 = cvx.Variable(1,boolean=True)\n",
        "y16 = cvx.Variable(1,boolean=True)\n",
        "\n",
        "#xi = cvx.Variable(1, integer=True)#\n",
        "x1 = 44.2599\n",
        "x2 = 53.3641\n",
        "x3 = 42.9919\n",
        "x4 = 42.5817\n",
        "x5 = 37.3077\n",
        "x6 = 49.0842\n",
        "x7 = 23.7433\n",
        "x8 = 23.4503\n",
        "x9 = 28.6657\n",
        "x10 = 38.9173\n",
        "x11 = 38.0383\n",
        "x12 = 40.3237\n",
        "x13 = 39.4447\n",
        "x14 = 42.3747\n",
        "x15 = 38.6243\n",
        "x16 = 37.3937\n",
        "\n",
        "#Constraints\n",
        "#Budget Constraints \n",
        "c11 = (y1*2925000+y2*10000000+y3*3750000+y4*3500000+y5*325000+y6*8950000+y7*1950000+y8*1750000\n",
        "      +y9*4900000+y10*1650000+y11*1125000+y12*2500000+y13*1975000+y14*3750000+y15*1475000+y16*750000)<=10000000\n",
        "\n",
        "\n",
        "## City capacity Constrains\n",
        "c21=(y1<=2)\n",
        "c22=(y2+y3+y4+y5<=2)\n",
        "c23=(y6<=2)\n",
        "c24=(y7+y8+y9<=2)\n",
        "c25=(y10+y11+y12+y13+y14+y15+y16<=2)\n",
        "\n",
        "#ObjectiveFunction\n",
        "Profit= x1*y1+x2*y2+x3*y3+x4*y4+x5*y5+x6*y6+x7*y7+x8*y8+x9*y9+x10*y10+x11*y11+x12*y12+x13*y13+x14*y14+x15*y15+x16*y16\n",
        "\n",
        "ObjectiveFunction=cvx.Maximize(Profit)\n",
        "\n",
        "con = [c11,c21,c22,c23,c24,c25]\n",
        "\n",
        "#Solution\n",
        "prob = cvx.Problem(ObjectiveFunction, con)\n",
        "prob.solve()\n",
        "\n",
        "print(\"Maximized Profit is\",round(prob.solve(),1))"
      ],
      "execution_count": 0,
      "outputs": [
        {
          "output_type": "stream",
          "text": [
            "Maximized Profit is 205.7\n"
          ],
          "name": "stdout"
        }
      ]
    },
    {
      "cell_type": "markdown",
      "metadata": {
        "id": "3TejHtCa_npN",
        "colab_type": "text"
      },
      "source": [
        "Linear programming optimization model gives much better profibility than the greedy model,I would suggest LQM takes the LP optimization model. My recommendations on improving the regression model is to check the relationship between state population. My recommendation on improveing the optimization model would be, instead of setting threshold for number of hotels purchased in every city, LQM can set different thresholds for different cities based on the average profitability."
      ]
    }
  ]
}